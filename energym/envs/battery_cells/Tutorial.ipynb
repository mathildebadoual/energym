{
 "cells": [
  {
   "cell_type": "markdown",
   "metadata": {},
   "source": [
    "# SPM tutorial\n",
    "\n",
    "-2019.04.01 notes\n",
    "\n",
    "This notebook illustrates how battery_cell environment works."
   ]
  },
  {
   "cell_type": "code",
   "execution_count": 8,
   "metadata": {},
   "outputs": [],
   "source": [
    "import numpy as np\n",
    "import matplotlib.pyplot as plt\n",
    "import gym\n",
    "import energym\n",
    "\n",
    "env = gym.make('spm_environment-v0')\n"
   ]
  },
  {
   "cell_type": "markdown",
   "metadata": {},
   "source": [
    "Test single partilce model (SPM)"
   ]
  },
  {
   "cell_type": "code",
   "execution_count": 9,
   "metadata": {},
   "outputs": [
    {
     "name": "stdout",
     "output_type": "stream",
     "text": [
      "Action space is discrete?:  True\n",
      "Initial SOC:  0.2566303117153117\n",
      "Target SOC:  0.8\n",
      "Maximum current:  -50.0\n",
      "Minimum current:  0.0\n"
     ]
    }
   ],
   "source": [
    "# Environment settings\n",
    "env.reset()\n",
    "\n",
    "print(\"Action space is discrete?: \", env.discrete)\n",
    "\n",
    "print(\"Initial SOC: \",env.SOCn)\n",
    "print(\"Target SOC: \",env.SOC_desired)\n",
    "\n",
    "print(\"Maximum current: \", env.currents[0])\n",
    "print(\"Minimum current: \", env.currents[19])"
   ]
  },
  {
   "cell_type": "code",
   "execution_count": 11,
   "metadata": {},
   "outputs": [
    {
     "data": {
      "text/plain": [
       "Text(0.5,0,'Time [sec]')"
      ]
     },
     "execution_count": 11,
     "metadata": {},
     "output_type": "execute_result"
    },
    {
     "data": {
      "image/png": "[encoded data removed]",
      "text/plain": [
       "<Figure size 432x288 with 1 Axes>"
      ]
     },
     "metadata": {},
     "output_type": "display_data"
    }
   ],
   "source": [
    "\n",
    "# Simulation\n",
    "env.reset()\n",
    "SOCn_list = [env.SOCn]\n",
    "V_list = [env.V]\n",
    "c_ss_n_list = [env.css_n]\n",
    "\n",
    "max_chg_current_idx = 0 # -50A for charging\n",
    "for i in range(10):\n",
    "    csn, reward, done, info = env.step(max_chg_current_idx)\n",
    "    c_ss_n_list.append(info['css_n'])\n",
    "    V_list.append(info['V'])\n",
    "    SOCn_list.append(info['SOCn'])\n",
    "    \n",
    "plt.figure()\n",
    "plt.plot(V_list[1:])\n",
    "plt.title('Voltage over time')\n",
    "plt.ylabel('Voltage [V]')\n",
    "plt.xlabel('Time [sec]')"
   ]
  },
  {
   "cell_type": "code",
   "execution_count": null,
   "metadata": {},
   "outputs": [],
   "source": []
  }
 ],
 "metadata": {
  "kernelspec": {
   "display_name": "Python 3",
   "language": "python",
   "name": "python3"
  },
  "language_info": {
   "codemirror_mode": {
    "name": "ipython",
    "version": 3
   },
   "file_extension": ".py",
   "mimetype": "text/x-python",
   "name": "python",
   "nbconvert_exporter": "python",
   "pygments_lexer": "ipython3",
   "version": "3.6.5"
  }
 },
 "nbformat": 4,
 "nbformat_minor": 2
}
